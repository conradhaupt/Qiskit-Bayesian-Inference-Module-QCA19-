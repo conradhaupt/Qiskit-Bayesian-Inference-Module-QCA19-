{
 "cells": [
  {
   "cell_type": "code",
   "execution_count": 1,
   "metadata": {},
   "outputs": [],
   "source": [
    "import qiskit as qk\n",
    "import qinfer as qf\n",
    "from qiskit.aqua.algorithms.single_sample import IQPE,QPE\n",
    "from qiskit.aqua.components import iqfts\n",
    "from qiskit.aqua.operators import WeightedPauliOperator\n",
    "from qiskit.aqua.algorithms import ExactEigensolver\n",
    "from qiskit.aqua.components.initial_states import Custom\n",
    "import numpy as np\n",
    "from qiskit import Aer,execute\n",
    "from qiskit.aqua import QuantumInstance\n",
    "# We need distributions to model priors.\n",
    "from qinfer import distributions\n",
    "# The noisy coin model has already been implmented, so let's import it here.\n",
    "from qinfer.test_models import NoisyCoinModel\n",
    "# Next, we need to import the sequential Monte Carlo updater class.\n",
    "from qinfer.smc import SMCUpdater\n",
    "# We'll be demonstrating approximate likelihood evaluation (ALE) as well.\n",
    "from qinfer import ale\n",
    "from qinfer import FiniteOutcomeModel\n",
    "import matplotlib.pyplot as plt\n",
    "from scipy.stats import circmean"
   ]
  },
  {
   "cell_type": "code",
   "execution_count": 2,
   "metadata": {},
   "outputs": [],
   "source": [
    "EPS = 1e-15\n",
    "def chop(value):\n",
    "    if np.abs(value) <= EPS:\n",
    "        return 0\n",
    "    else:\n",
    "        return value"
   ]
  },
  {
   "cell_type": "code",
   "execution_count": 79,
   "metadata": {},
   "outputs": [
    {
     "name": "stdout",
     "output_type": "stream",
     "text": [
      "2.0943951023931953\n"
     ]
    }
   ],
   "source": [
    "print(angle)"
   ]
  },
  {
   "cell_type": "code",
   "execution_count": 108,
   "metadata": {},
   "outputs": [],
   "source": [
    "angle = np.pi / 3\n",
    "real = chop(np.real(np.exp(1.j * angle)))\n",
    "imag = chop(np.imag(np.exp(1.j * angle)))\n",
    "\n",
    "PAULI_DICT_ZZ = {\n",
    "    'paulis': [\n",
    "        {\"coeff\": {\"imag\": imag, \"real\": real}, \"label\": \"ZZ\"}\n",
    "    ]\n",
    "}\n",
    "QUBIT_OP_ZZ = WeightedPauliOperator.from_dict(PAULI_DICT_ZZ)\n",
    "eigen_results = ExactEigensolver(QUBIT_OP_ZZ,4).run()\n",
    "eigen_value = eigen_results['eigvals'][0]\n",
    "eigen_vector = eigen_results['eigvecs'][0]"
   ]
  },
  {
   "cell_type": "code",
   "execution_count": 109,
   "metadata": {},
   "outputs": [
    {
     "data": {
      "text/plain": [
       "{'eigvals': array([-0.5-0.8660254j, -0.5-0.8660254j,  0.5+0.8660254j,  0.5+0.8660254j]),\n",
       " 'eigvecs': array([[0., 1., 0., 0.],\n",
       "        [0., 0., 1., 0.],\n",
       "        [1., 0., 0., 0.],\n",
       "        [0., 0., 0., 1.]]),\n",
       " 'energy': -0.5000000000000001,\n",
       " 'wavefunction': array([[0., 1., 0., 0.],\n",
       "        [0., 0., 1., 0.],\n",
       "        [1., 0., 0., 0.],\n",
       "        [0., 0., 0., 1.]]),\n",
       " 'energies': array([-0.5, -0.5,  0.5,  0.5])}"
      ]
     },
     "execution_count": 109,
     "metadata": {},
     "output_type": "execute_result"
    }
   ],
   "source": [
    "eigen_results"
   ]
  },
  {
   "cell_type": "code",
   "execution_count": 110,
   "metadata": {},
   "outputs": [],
   "source": [
    "state_in = Custom(QUBIT_OP_ZZ.num_qubits, state_vector=eigen_vector)"
   ]
  },
  {
   "cell_type": "code",
   "execution_count": 111,
   "metadata": {},
   "outputs": [],
   "source": [
    "simulator = Aer.get_backend('qasm_simulator')"
   ]
  },
  {
   "cell_type": "markdown",
   "metadata": {},
   "source": [
    "# IQPE on ZZ unitary"
   ]
  },
  {
   "cell_type": "code",
   "execution_count": 112,
   "metadata": {},
   "outputs": [],
   "source": [
    "iqpe_builder = IQPE(\n",
    "    QUBIT_OP_ZZ,\n",
    "    state_in,\n",
    "    num_iterations=6,\n",
    "    num_time_slices=1,\n",
    "    expansion_mode='suzuki',\n",
    "    expansion_order=3,\n",
    "    shallow_circuit_concat=True)\n",
    "iqpe_results = iqpe_circ = iqpe_builder.run(simulator,shots=2048)"
   ]
  },
  {
   "cell_type": "code",
   "execution_count": 113,
   "metadata": {},
   "outputs": [],
   "source": [
    "iqpe_results\n",
    "output_results = iqpe_results['top_measurement_label']"
   ]
  },
  {
   "cell_type": "code",
   "execution_count": 114,
   "metadata": {},
   "outputs": [
    {
     "data": {
      "text/plain": [
       "'010000'"
      ]
     },
     "execution_count": 114,
     "metadata": {},
     "output_type": "execute_result"
    }
   ],
   "source": [
    "output_results"
   ]
  },
  {
   "cell_type": "code",
   "execution_count": 115,
   "metadata": {},
   "outputs": [
    {
     "data": {
      "text/plain": [
       "{'translation': 1.0,\n",
       " 'stretch': 0.5,\n",
       " 'top_measurement_label': '010000',\n",
       " 'phase': 0.25,\n",
       " 'top_measurement_decimal': 0.25,\n",
       " 'energy': -0.5}"
      ]
     },
     "execution_count": 115,
     "metadata": {},
     "output_type": "execute_result"
    }
   ],
   "source": [
    "iqpe_results"
   ]
  },
  {
   "cell_type": "markdown",
   "metadata": {},
   "source": [
    "# QInfer"
   ]
  },
  {
   "cell_type": "code",
   "execution_count": 116,
   "metadata": {},
   "outputs": [],
   "source": [
    "class IQPEModel(FiniteOutcomeModel):\n",
    "    \n",
    "    def __init__(self):\n",
    "        super(IQPEModel, self).__init__()\n",
    "\n",
    "    ## PROPERTIES ##\n",
    "\n",
    "    @property\n",
    "    def n_modelparams(self):\n",
    "        # phi\n",
    "        return 1\n",
    "\n",
    "    @property\n",
    "    def expparams_dtype(self):\n",
    "#         return [('theta','float64'), ('m','int64'),('T2','float64')]\n",
    "        return [('theta','float64'), ('m','int64')]\n",
    "\n",
    "    @property\n",
    "    def is_n_outcomes_constant(self):\n",
    "        return True\n",
    "\n",
    "    ## METHODS ##\n",
    "\n",
    "    @staticmethod\n",
    "    def are_models_valid(modelparams):\n",
    "        return np.logical_and(modelparams[:] >= 0, modelparams[:]<=2*np.pi).all(axis=1)\n",
    "\n",
    "    def n_outcomes(self, expparams):\n",
    "        return 2\n",
    "\n",
    "    def likelihood(self, outcomes, modelparams, expparams):\n",
    "        # We first call the superclass method, which basically\n",
    "        # just makes sure that call count diagnostics are properly\n",
    "        # logged.\n",
    "        super(IQPEModel, self).likelihood(outcomes, modelparams, expparams)\n",
    "        # Probability of getting 0 for QPE is\n",
    "        # P(0) = (1 + cos(M(theta - phi)))/2\n",
    "#         pr0 = np.exp(-expparams['m'] / expparams['T2']) * (1 + np.cos(expparams['m'] * (expparams['theta'] - modelparams[:]))) / 2 + (1 - np.exp(-expparams['m'] / expparams['T2']))/2\n",
    "        pr0 = (1 + np.cos(expparams['m'] * (expparams['theta'] - modelparams[:]))) / 2\n",
    "\n",
    "        # Concatenate over outcomes.\n",
    "        return FiniteOutcomeModel.pr0_to_likelihood_array(outcomes, pr0)"
   ]
  },
  {
   "cell_type": "code",
   "execution_count": 117,
   "metadata": {},
   "outputs": [],
   "source": [
    "N_PARTICLES = 5000\n",
    "N_EXP = 20\n",
    "N_TRIALS = 1"
   ]
  },
  {
   "cell_type": "code",
   "execution_count": 118,
   "metadata": {},
   "outputs": [],
   "source": [
    "prior = distributions.UniformDistribution([0, 2 * np.pi])\n",
    "# prior = distributions.NormalDistribution(np.pi,0.5)\n",
    "model = IQPEModel()"
   ]
  },
  {
   "cell_type": "code",
   "execution_count": 119,
   "metadata": {},
   "outputs": [],
   "source": [
    "performance_dtype = [\n",
    "    ('outcome', 'i1'),\n",
    "    ('est_mean', 'f8'), ('est_cov_mat', 'f8'),\n",
    "    ('true_err', 'f8'), ('resample_count', 'i8'),\n",
    "    ('elapsed_time', 'f8'),\n",
    "    ('like_count', 'i8'), ('sim_count', 'i8'),\n",
    "    ('bme', 'f8'),\n",
    "    ('var', 'f8'),\n",
    "    ('bme_err', 'f8')\n",
    "]"
   ]
  },
  {
   "cell_type": "code",
   "execution_count": 120,
   "metadata": {},
   "outputs": [],
   "source": [
    "performance = np.empty((N_TRIALS, N_EXP), dtype=performance_dtype)"
   ]
  },
  {
   "cell_type": "code",
   "execution_count": 121,
   "metadata": {},
   "outputs": [],
   "source": [
    "true_params = np.empty((N_TRIALS, model.n_modelparams))"
   ]
  },
  {
   "cell_type": "markdown",
   "metadata": {},
   "source": [
    "Now, we run the experiments!"
   ]
  },
  {
   "cell_type": "code",
   "execution_count": 122,
   "metadata": {},
   "outputs": [],
   "source": [
    "import time"
   ]
  },
  {
   "cell_type": "code",
   "execution_count": 123,
   "metadata": {},
   "outputs": [],
   "source": [
    "def radiandiff(a,b):\n",
    "    FULL_ROTATION = 2 * np.pi\n",
    "    return np.min(np.abs([a - b, b - a, a - b + FULL_ROTATION, b - a + FULL_ROTATION]))"
   ]
  },
  {
   "cell_type": "code",
   "execution_count": 130,
   "metadata": {},
   "outputs": [],
   "source": [
    "THETA = np.pi/3\n",
    "# M = np.linspace(1,5)\n",
    "# n = 2\n",
    "# expected_bit = np.float64(output_results[-n])\n",
    "M = 3\n",
    "T2 = 100\n",
    "# expparams = np.array([(M,THETA,T2)], dtype=model.expparams_dtype)\n",
    "expparams = np.array([(M,THETA)], dtype=model.expparams_dtype)"
   ]
  },
  {
   "cell_type": "code",
   "execution_count": 131,
   "metadata": {},
   "outputs": [],
   "source": [
    "class PhaseSMCUpdater(SMCUpdater):\n",
    "    @staticmethod\n",
    "    def particle_mean(weights,locations):\n",
    "        weighted_values = np.multiply(weights, locations)\n",
    "        return circmean(weighted_values)"
   ]
  },
  {
   "cell_type": "code",
   "execution_count": 132,
   "metadata": {},
   "outputs": [],
   "source": [
    "simulator = Aer.get_backend('qasm_simulator')"
   ]
  },
  {
   "cell_type": "code",
   "execution_count": 133,
   "metadata": {
    "scrolled": false
   },
   "outputs": [
    {
     "name": "stdout",
     "output_type": "stream",
     "text": [
      "0\n",
      "{'0': 3082, '1': 1014}\n",
      "Done!\n"
     ]
    }
   ],
   "source": [
    "for idx_trial in range(N_TRIALS):\n",
    "    \n",
    "    # First, make new updaters using the constructors\n",
    "    # defined above.\n",
    "    updater = PhaseSMCUpdater(model, N_PARTICLES, prior)\n",
    "    \n",
    "#     # Sample true set of modelparams.\n",
    "#     truemp = prior.sample()\n",
    "#     true_params[idx_trial, :] = truemp\n",
    "\n",
    "    # Now loop over experiments, updating each of the\n",
    "    # updaters with the same data, so that we can compare\n",
    "    # their estimation performance.\n",
    "    print(idx_trial)\n",
    "    circuit = iqpe_builder.construct_circuit(k=M,omega=THETA,measurement=True)\n",
    "    results = execute(circuit,simulator,shots=4096,memory=True)\n",
    "    counts = results.result().get_counts()\n",
    "    memory = results.result().get_memory()\n",
    "    print(counts)\n",
    "    for idx_exp in range(N_EXP):\n",
    "        \n",
    "        # Make a short hand for indexing the current simulation\n",
    "        # and experiment.\n",
    "        idxs = np.s_[idx_trial, idx_exp]\n",
    "        # Start by simulating and recording the data.\n",
    "        \n",
    "        #########################################\n",
    "        #########################################\n",
    "        #########################################\n",
    "        #########################################\n",
    "        #########################################\n",
    "        #########################################\n",
    "        #########################################\n",
    "        #########################################\n",
    "        USE_QISKIT_QASM_SIMULATOR = False\n",
    "        if USE_QISKIT_QASM_SIMULATOR:\n",
    "            outcome = int(memory[idx_exp])\n",
    "        else:\n",
    "            outcome = model.simulate_experiment(np.array([[angle]]),expparams)\n",
    "        #########################################\n",
    "        #########################################\n",
    "        #########################################\n",
    "        #########################################\n",
    "        #########################################\n",
    "        #########################################\n",
    "        #########################################\n",
    "        #########################################\n",
    "        \n",
    "        performance['outcome'][idxs] = outcome\n",
    "#         print(outcome)\n",
    "    \n",
    "        # Reset the like_count and sim_count\n",
    "        # properties so that we can count how many were used\n",
    "        # by this update. Note that this is a hack;\n",
    "        # an appropriate method should be added to\n",
    "        # Simulatable.\n",
    "        model._sim_count = 0\n",
    "        model._call_count = 0\n",
    "            \n",
    "        # Time the actual update.\n",
    "        tic = toc = None\n",
    "        tic = time.time()\n",
    "        updater.update(outcome, expparams)\n",
    "        performance[idxs]['elapsed_time'] = time.time() - tic\n",
    "        \n",
    "        # Record the performance of this updater.\n",
    "#         weighted_values = np.multiply(updater.particle_weights, updater.particle_locations)\n",
    "#         est_mean = circmean(weighted_values)\n",
    "        est_mean = updater.est_mean()\n",
    "        performance[idxs]['est_mean'] = est_mean\n",
    "        performance[idxs]['true_err'] = radiandiff(est_mean,angle) ** 2\n",
    "#         performance[idxs]['true_err'] = np.abs(est_mean - truemp) ** 2\n",
    "        performance[idxs]['est_cov_mat'] = updater.est_covariance_mtx()\n",
    "        performance[idxs]['resample_count'] = updater.resample_count\n",
    "        performance[idxs]['like_count'] = model.call_count\n",
    "        performance[idxs]['sim_count'] = model.sim_count\n",
    "        \n",
    "#         Finally, record the ideal stats.\n",
    "#         performance[idxs]['bme'], performance[idxs]['var'] = exactBME(\n",
    "#             idx_exp + 1 - np.sum(performance[idxs]['outcome']), idx_exp + 1,\n",
    "#             ALPHA, BETA\n",
    "#         )\n",
    "#         performance[idxs]['bme'], \n",
    "\n",
    "#         performance[idxs]['bme_err'] = np.abs(performance[idxs]['bme'] - truemp) ** 2\n",
    "print('Done!')"
   ]
  },
  {
   "cell_type": "code",
   "execution_count": 134,
   "metadata": {},
   "outputs": [],
   "source": [
    "# plt.semilogy(np.mean(performance['true_err'],axis=0))"
   ]
  },
  {
   "cell_type": "code",
   "execution_count": 135,
   "metadata": {},
   "outputs": [
    {
     "data": {
      "text/plain": [
       "[<matplotlib.lines.Line2D at 0x7f64840cee50>]"
      ]
     },
     "execution_count": 135,
     "metadata": {},
     "output_type": "execute_result"
    },
    {
     "data": {
      "image/png": "[encoded data removed]",
      "text/plain": [
       "<Figure size 432x288 with 1 Axes>"
      ]
     },
     "metadata": {
      "needs_background": "light"
     },
     "output_type": "display_data"
    }
   ],
   "source": [
    "updater.plot_posterior_marginal()"
   ]
  },
  {
   "cell_type": "code",
   "execution_count": null,
   "metadata": {},
   "outputs": [],
   "source": [
    "counts"
   ]
  },
  {
   "cell_type": "markdown",
   "metadata": {},
   "source": [
    "# Derived Model Example"
   ]
  },
  {
   "cell_type": "code",
   "execution_count": null,
   "metadata": {},
   "outputs": [],
   "source": [
    "def averageofcounts(counts):\n",
    "#     print(dir(counts))\n",
    "    sum = 0\n",
    "    count = 0\n",
    "    for k,v in counts.items():\n",
    "        key_val = int(k)\n",
    "        sum += key_val * v\n",
    "        count += v\n",
    "    return sum / count"
   ]
  },
  {
   "cell_type": "code",
   "execution_count": null,
   "metadata": {},
   "outputs": [],
   "source": [
    "model = IQPEModel()\n",
    "n_meas = 25\n",
    "prior = distributions.UniformDistribution([0, 1])\n",
    "updater = PhaseSMCUpdater(model, 2000, prior)\n",
    "heuristic = qf.ExpSparseHeuristic(updater)\n",
    "true_params = 1\n",
    "est_hist = []\n",
    "for m in range(25):\n",
    "    print('Infering for m=%d' % (m))\n",
    "    THETA = np.pi\n",
    "    M = 4\n",
    "    T2 = 100\n",
    "    experiment = np.array([(M,THETA,T2)], dtype=model.expparams_dtype)\n",
    "#     experiment = np.array([(m, n_meas)], dtype=model.expparams_dtype)\n",
    "#     datum = model.simulate_experiment(true_params, experiment)\n",
    "    \n",
    "    circuit = iqpe_builder.construct_circuit(k=M,omega=THETA,measurement=True)\n",
    "    n_shots = 4096\n",
    "    results = execute(circuit,simulator,shots=n_shots)\n",
    "    counts = results.result().get_counts()\n",
    "    datum = averageofcounts(counts)\n",
    "#     print(datum)\n",
    "    \n",
    "    updater.update(datum, experiment)\n",
    "    est_hist.append(updater.est_mean())\n",
    "plt.plot(est_hist, label='Est.')\n",
    "plt.hlines(true_params, 0, 20, label='True')\n",
    "plt.legend(ncol=2)\n",
    "plt.xlabel('# of Times Sampled (25 measurements/ea)')\n",
    "plt.ylabel('Measured value')"
   ]
  },
  {
   "cell_type": "code",
   "execution_count": null,
   "metadata": {},
   "outputs": [],
   "source": []
  }
 ],
 "metadata": {
  "kernelspec": {
   "display_name": "Python 3",
   "language": "python",
   "name": "python3"
  },
  "language_info": {
   "codemirror_mode": {
    "name": "ipython",
    "version": 3
   },
   "file_extension": ".py",
   "mimetype": "text/x-python",
   "name": "python",
   "nbconvert_exporter": "python",
   "pygments_lexer": "ipython3",
   "version": "3.7.4"
  }
 },
 "nbformat": 4,
 "nbformat_minor": 2
}
