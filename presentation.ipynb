{
 "cells": [
  {
   "cell_type": "markdown",
   "metadata": {},
   "source": [
    "# Bayesian Framework for Quantum Algorithms in Qiskit\n",
    "\n",
    "## _Team: Baye's Baes_\n",
    "\n",
    "**Team members:** _Conrad Haupt, Annie Ho, Shawal Kassim, Eric-Muthemba Kiarie, Roman Peters_\n",
    "\n",
    "**Coach:** _Ismail Akhalwaya_\n",
    "\n",
    "\n",
    "This project was developed for the Qiskit Camp Africa in 2019. It shows that Bayesian Inference can be integrated into Qiskit using the QInfer toolkit. This notebook showcases a proof-of-concept for the Iterative Quantum Phase Estimation circuit where the phase of the unitary is determined through a Sequential Monte-Carlo sampling scheme over an arbitrary prior distribution. The experimental results used for updating the posterior come from a QASM simulation of the IQPE circuit at iteration 1.\n",
    "\n",
    "[1] N. Wiebe and C. E. Granade, “Efficient Bayesian Phase Estimation,” Phys. Rev. Lett., vol. 117, no. 1, p. 010503, Jun. 2016.\n",
    "\n",
    "[2] C. Granade et al., “QInfer: Statistical inference software for quantum applications,” Quantum, vol. 1, p. 5, Apr. 2017.\n",
    "\n",
    "[3] H. Abraham et al., Qiskit: An Open-source Framework for Quantum Computing. 2019."
   ]
  },
  {
   "cell_type": "code",
   "execution_count": 128,
   "metadata": {},
   "outputs": [
    {
     "name": "stderr",
     "output_type": "stream",
     "text": [
      "/home/conrad/.anaconda3/lib/python3.7/site-packages/qiskit/providers/ibmq/ibmqfactory.py:181: UserWarning: Credentials are already in use. The existing account in the session will be replaced.\n",
      "  warnings.warn('Credentials are already in use. The existing '\n"
     ]
    }
   ],
   "source": [
    "# Import major packages\n",
    "import qiskit as qk\n",
    "import qinfer as qf\n",
    "import numpy as np\n",
    "import matplotlib as mpl\n",
    "\n",
    "# Qiskit imports for IQPE\n",
    "from qiskit import IBMQ\n",
    "from qiskit.aqua.algorithms.single_sample import IQPE,QPE\n",
    "from qiskit.aqua.components import iqfts\n",
    "from qiskit.aqua.operators import WeightedPauliOperator\n",
    "from qiskit.aqua.algorithms import ExactEigensolver\n",
    "from qiskit.aqua.components.initial_states import Custom\n",
    "from qiskit import Aer,execute\n",
    "from qiskit.aqua import QuantumInstance\n",
    "from qiskit.providers.aer import noise\n",
    "\n",
    "# QInfer imports for modelling the IQPE algorithm\n",
    "from qinfer import distributions\n",
    "from qinfer.smc import SMCUpdater         # The QInfer Sequantial Monte-Carlo Sampler\n",
    "from qinfer import FiniteOutcomeModel\n",
    "\n",
    "# Tertiary imports\n",
    "import matplotlib.pyplot as plt\n",
    "import time\n",
    "\n",
    "# Intial setup\n",
    "IBMQ.load_account()\n",
    "ibmqx_provider = IBMQ.get_provider(hub='ibm-q-wits', group='internal', project='default')\n",
    "mpl.rc('text', usetex=True)"
   ]
  },
  {
   "cell_type": "code",
   "execution_count": 129,
   "metadata": {
    "hide_input": false
   },
   "outputs": [],
   "source": [
    "# Function definitions for the entire notebook\n",
    "EPS = 1e-15\n",
    "def chop(value):\n",
    "    if np.abs(value) <= EPS:\n",
    "        return 0\n",
    "    else:\n",
    "        return value\n",
    "def radiandiff(a,b):\n",
    "    FULL_ROTATION = 2 * np.pi\n",
    "    return np.min(np.abs([a - b, b - a, a - b + FULL_ROTATION, b - a + FULL_ROTATION]))\n",
    "def complexfromangle(angle):\n",
    "    real = chop(np.real(np.exp(1.j * angle)))\n",
    "    imag = chop(np.imag(np.exp(1.j * angle)))\n",
    "    return real,imag"
   ]
  },
  {
   "cell_type": "markdown",
   "metadata": {},
   "source": [
    "# IQPE on ZZ Unitary with specified phase"
   ]
  },
  {
   "cell_type": "markdown",
   "metadata": {},
   "source": [
    "Here we setup the IQPE circuit using Aqua with an arbitrary phase"
   ]
  },
  {
   "cell_type": "code",
   "execution_count": 130,
   "metadata": {},
   "outputs": [],
   "source": [
    "# Set-up unitary with specified phase\n",
    "angle = 4 * np.pi / 5\n",
    "real,imag = complexfromangle(angle)\n",
    "\n",
    "PAULI_DICT_ZZ = {\n",
    "    'paulis': [\n",
    "        {\"coeff\": {\"imag\": imag, \"real\": real}, \"label\": \"ZZ\"}\n",
    "    ]\n",
    "}\n",
    "QUBIT_OP_ZZ = WeightedPauliOperator.from_dict(PAULI_DICT_ZZ)\n",
    "eigen_results = ExactEigensolver(QUBIT_OP_ZZ,4).run()\n",
    "eigen_value = eigen_results['eigvals'][0]\n",
    "eigen_vector = eigen_results['eigvecs'][0]"
   ]
  },
  {
   "cell_type": "code",
   "execution_count": 131,
   "metadata": {},
   "outputs": [
    {
     "name": "stdout",
     "output_type": "stream",
     "text": [
      "Eigenvalues [-0.80901699+0.58778525j -0.80901699+0.58778525j  0.80901699-0.58778525j\n",
      "  0.80901699-0.58778525j]\n",
      "Phase is 2.5133 radians\n"
     ]
    }
   ],
   "source": [
    "print('Eigenvalues',eigen_results['eigvals'])\n",
    "print('Phase is %.4f radians' %(angle))"
   ]
  },
  {
   "cell_type": "code",
   "execution_count": 132,
   "metadata": {},
   "outputs": [],
   "source": [
    "# Setup initial state as eigenvector\n",
    "state_in = Custom(QUBIT_OP_ZZ.num_qubits, state_vector=eigen_vector)"
   ]
  },
  {
   "cell_type": "code",
   "execution_count": 133,
   "metadata": {},
   "outputs": [],
   "source": [
    "# Use QASM Simulator for testing\n",
    "simulator = Aer.get_backend('qasm_simulator')"
   ]
  },
  {
   "cell_type": "code",
   "execution_count": 134,
   "metadata": {},
   "outputs": [],
   "source": [
    "# Construct IQPE circuit and simulate\n",
    "iqpe_builder = IQPE(\n",
    "    QUBIT_OP_ZZ,\n",
    "    state_in,\n",
    "    num_iterations=1,\n",
    "    num_time_slices=1,\n",
    "    expansion_mode='suzuki',\n",
    "    expansion_order=1,\n",
    "    shallow_circuit_concat=True)\n",
    "\n",
    "# This is required to setup iqpe_builder so we can call construct_circuit() later on\n",
    "iqpe_results = iqpe_circ = iqpe_builder.run(simulator,shots=1)"
   ]
  },
  {
   "cell_type": "markdown",
   "metadata": {},
   "source": [
    "# QInfer Models and Definitions"
   ]
  },
  {
   "cell_type": "markdown",
   "metadata": {},
   "source": [
    "Here we define our IQPE QInfer model as well as the required analytical representations for the inference"
   ]
  },
  {
   "cell_type": "code",
   "execution_count": 135,
   "metadata": {},
   "outputs": [],
   "source": [
    "# Extend the QInfer FiniteOutcomeModel as IQPE has only one bit per measure\n",
    "class IQPEModel(FiniteOutcomeModel):\n",
    "    \n",
    "    def __init__(self):\n",
    "        super(IQPEModel, self).__init__()\n",
    "\n",
    "    # Number of parameters overwhich to conduct the Bayesian Inference\n",
    "    @property\n",
    "    def n_modelparams(self):\n",
    "        # phi\n",
    "        return 1\n",
    "\n",
    "    # Number of parameters that are needed for the simulation but are known.\n",
    "    # i.e. do not need to be inferred\n",
    "    @property\n",
    "    def expparams_dtype(self):\n",
    "        return [('theta','float64'), ('m','int64')]\n",
    "\n",
    "    @property\n",
    "    def is_n_outcomes_constant(self):\n",
    "        return True\n",
    "\n",
    "    # This function will verify whether the new inferred model parameters are valid for our model.\n",
    "    @staticmethod\n",
    "    def are_models_valid(modelparams):\n",
    "        # NOTE: If T2 is included as a model parameter, restrict it to positive\n",
    "        return np.logical_and(modelparams[:] >= -2*np.pi, modelparams[:]<=2*np.pi, modelparams[:] > 0).all(axis=1)\n",
    "\n",
    "    def n_outcomes(self, expparams):\n",
    "        return 2\n",
    "\n",
    "    # This function implements our probability for reading a 0 or 1 on our IQPE circuit.\n",
    "    # These equations are taken from [1] and are used by the updater/sampler to modify the posterior\n",
    "    def likelihood(self, outcomes, modelparams, expparams):\n",
    "        super(IQPEModel, self).likelihood(outcomes, modelparams, expparams)\n",
    "        # Probability of getting 0 for IQPE is\n",
    "        # P(0) = (1 + cos(M(theta - phi)))/2\n",
    "        # P(1) = (1 - cos(M(theta - phi)))/2\n",
    "        \n",
    "        # This is the probability of getting a 0 with T2 depolarisation noise from [1].\n",
    "        # Not currently used.\n",
    "        # pr0 = np.exp(-expparams['m'] / expparams['T2']) * (1 + np.cos(expparams['m'] * (expparams['theta'] - modelparams[:]))) / 2 + (1 - np.exp(-expparams['m'] / expparams['T2']))/2\n",
    "        \n",
    "        pr0 = (1 + np.cos(expparams['m'] * (expparams['theta'] - modelparams[:]))) / 2\n",
    "\n",
    "        return FiniteOutcomeModel.pr0_to_likelihood_array(outcomes, pr0)"
   ]
  },
  {
   "cell_type": "code",
   "execution_count": 136,
   "metadata": {},
   "outputs": [],
   "source": [
    "# As our model parameter is an angle, ensure we have the circular mean for the distribution so we allow\n",
    "# for wraparound. This is done by converting angles to x,y points on a unit circle, averaging over\n",
    "# x and y independently, and then combining the resulting average x and y values to create a new\n",
    "# vector. If the resulting magnitude is 0, there is no circular average as all points are equi-distant.\n",
    "# The resulting angle is approximately the circular average of the collection of angles/phases.\n",
    "class PhaseSMCUpdater(SMCUpdater):\n",
    "    @staticmethod\n",
    "    def particle_mean(weights,locations):\n",
    "        locs = [complexfromangle(a) for a in locations.flatten()]\n",
    "        loc_x = []\n",
    "        loc_y = []\n",
    "        for x,y in locs:\n",
    "            loc_x.append(x)\n",
    "            loc_y.append(y)\n",
    "        avg_x = np.average(loc_x,weights=weights)\n",
    "        avg_y = np.average(loc_y,weights=weights)\n",
    "        avg_angle = np.angle(avg_x + 1.j*avg_y)\n",
    "        avg_mag = np.sqrt(avg_x**2 + avg_y**2)\n",
    "        return avg_angle"
   ]
  },
  {
   "cell_type": "code",
   "execution_count": 137,
   "metadata": {},
   "outputs": [],
   "source": [
    "# Bayesien Inference Parameters\n",
    "N_PARTICLES = 5000               # number of samples for PhaseSMCUpdater\n",
    "N_EXP = 25                       # Number of times to choose a new theta\n",
    "USE_QISKIT_QASM_SIMULATOR = True # Toggle parameter if we don't want to run any circuit simulations\n",
    "SIM_N_SHOTS=1024                 # number of shots for the circuit execution\n",
    "\n",
    "# DType list for experiment metric logging\n",
    "performance_dtype = [\n",
    "    ('outcome', 'i1'),\n",
    "    ('est_mean', 'f8'), ('est_cov_mat', 'f8'),\n",
    "    ('true_err', 'f8'), ('resample_count', 'i8'),\n",
    "    ('elapsed_time', 'f8'),\n",
    "    ('like_count', 'i8'), ('sim_count', 'i8'),\n",
    "    ('bme', 'f8'),\n",
    "    ('var', 'f8'),\n",
    "    ('bme_err', 'f8')\n",
    "]\n",
    "performance = np.empty((N_EXP), dtype=performance_dtype)"
   ]
  },
  {
   "cell_type": "code",
   "execution_count": 138,
   "metadata": {},
   "outputs": [],
   "source": [
    "# Set-up initial prior and QInfer model\n",
    "# prior = distributions.UniformDistribution([0, 2 * np.pi])\n",
    "prior = distributions.NormalDistribution(angle,np.pi/4)\n",
    "model = IQPEModel()"
   ]
  },
  {
   "cell_type": "code",
   "execution_count": 139,
   "metadata": {},
   "outputs": [],
   "source": [
    "# Use IBMQX Rochester as the base device for the partially ideal noise-model. We \n",
    "backend_device = ibmqx_provider.get_backend('ibmq_rochester')\n",
    "partially_ideal_model = noise.device.basic_device_noise_model(\n",
    "    backend_device.properties(),gate_error=False,readout_error=False,\n",
    "    thermal_relaxation=False,standard_gates=True)\n",
    "data_backend = Aer.get_backend('qasm_simulator')"
   ]
  },
  {
   "cell_type": "code",
   "execution_count": 163,
   "metadata": {
    "scrolled": false
   },
   "outputs": [
    {
     "name": "stdout",
     "output_type": "stream",
     "text": [
      "0 / 25 [ 1 2.2247863572512836 2.54531063001566 ]\n",
      "1 / 25 [ 1 [2.94084272] 2.5576314486878684 ]\n",
      "2 / 25 [ 1 [2.81167142] 2.5628875896183163 ]\n",
      "3 / 25 [ 1 [2.27997105] 2.5656032435855853 ]\n",
      "4 / 25 [ 1 [3.25967239] 2.369671933681773 ]\n",
      "5 / 25 [ 1 [2.64024075] 2.392361257076481 ]\n",
      "6 / 25 [ 1 [2.51572721] 2.4106386198086036 ]\n",
      "7 / 25 [ 1 [2.01676131] 2.42560295657491 ]\n",
      "8 / 25 [ 1 [2.4287447] 2.4380449342646493 ]\n",
      "9 / 25 [ 1 [1.99341921] 2.4812820612574646 ]\n",
      "10 / 25 [ 1 [2.37077158] 2.4880674161607748 ]\n",
      "11 / 25 [ 1 [2.79005046] 2.4939565631141196 ]\n",
      "12 / 25 [ 1 [2.81977423] 2.499101227847673 ]\n",
      "13 / 25 [ 1 [2.20683687] 2.5036271556645726 ]\n",
      "14 / 25 [ 1 [2.44050937] 2.5076365743992572 ]\n",
      "15 / 25 [ 1 [2.64024075] 2.5112121219360324 ]\n",
      "16 / 25 [ 1 [2.53116409] 2.5144206473790987 ]\n",
      "17 / 25 [ 1 [2.59477881] 2.517316440536718 ]\n",
      "18 / 25 [ 1 [2.43948248] 2.5199438390105096 ]\n",
      "19 / 25 [ 1 [2.54266406] 2.5223392865542396 ]\n",
      "20 / 25 [ 1 [2.60721876] 2.524532943365652 ]\n",
      "21 / 25 [ 1 [2.62169114] 2.526549942717673 ]\n",
      "22 / 25 [ 1 [2.39060614] 2.528411372774796 ]\n",
      "23 / 25 [ 1 [2.59980335] 2.5301350462472034 ]\n",
      "24 / 25 [ 1 [2.51685617] 2.531736106498142 ]\n",
      "Inference completed\n"
     ]
    }
   ],
   "source": [
    "# Create a Bayesian Inference Updater\n",
    "updater = PhaseSMCUpdater(model, N_PARTICLES, prior,zero_weight_policy='skip')\n",
    "# Set-up initial experimental parameters\n",
    "THETA = prior.sample()[0][0]\n",
    "M = 1\n",
    "T2 = 100\n",
    "\n",
    "posterior_marginal = []\n",
    "memory_list = []\n",
    "theta_list = []\n",
    "\n",
    "##############################################\n",
    "# Run for each experiment we defined earlier #\n",
    "##############################################\n",
    "for idx_exp in range(N_EXP):\n",
    "    # Define experimental parameters\n",
    "    expparams = np.array([(M,THETA)], dtype=model.expparams_dtype)\n",
    "    \n",
    "    # Simulate IQPE circuit and get results for inference\n",
    "    circuit = iqpe_builder.construct_circuit(k=M,omega=THETA,measurement=True)\n",
    "    results = execute(circuit,simulator,shots=SIM_N_SHOTS,memory=True,noise_model=ideal_model)\n",
    "    counts = results.result().get_counts()\n",
    "    memory = results.result().get_memory()\n",
    "    memory_list.append(memory)\n",
    "    theta_list.append(THETA.flatten())\n",
    "\n",
    "    # Start by simulating and recording the data. #\n",
    "\n",
    "    # Retrieve the outcome of the simulation either from the circuit simulation or a model simulation\n",
    "    if USE_QISKIT_QASM_SIMULATOR:\n",
    "        outcomes = np.array([[int(m) for m in memory]])\n",
    "    else:\n",
    "        outcomes = model.simulate_experiment(np.array([[angle]]),expparams,repeat=SIM_N_SHOTS)\n",
    "        outcomes = outcomes.reshape((1,outcomes.shape[0]))\n",
    "        \n",
    "    model._sim_count = 0\n",
    "    model._call_count = 0\n",
    "\n",
    "    # Time the update process\n",
    "    #     tic = toc = None\n",
    "    #     tic = time.time()\n",
    "\n",
    "    # Update the posterior particles using the result of the circuit simulation\n",
    "    updater.batch_update(outcomes, expparams)\n",
    "    \n",
    "    #     performance[idx_exp]['elapsed_time'] = time.time() - tic\n",
    "\n",
    "    # Record the performance of this updater.\n",
    "    est_mean = updater.est_mean()\n",
    "    performance[idx_exp]['est_mean'] = est_mean\n",
    "    performance[idx_exp]['true_err'] = radiandiff(est_mean,angle) ** 2\n",
    "    performance[idx_exp]['est_cov_mat'] = updater.est_covariance_mtx()\n",
    "    performance[idx_exp]['resample_count'] = updater.resample_count\n",
    "    performance[idx_exp]['like_count'] = model.call_count\n",
    "    performance[idx_exp]['sim_count'] = model.sim_count\n",
    "    \n",
    "#     Log\n",
    "    print(idx_exp,'/',N_EXP,'[',M,THETA,est_mean,']')\n",
    "    \n",
    "    \n",
    "    # Re-evaluate experiment parameters\n",
    "    uniform_draw_01 = np.random.uniform(low=0.05,high=0.95)\n",
    "#     uniform_draw_01 = np.random.uniform()\n",
    "    cumsum_particles = np.cumsum(updater.particle_weights)\n",
    "    draw_index = (cumsum_particles<= uniform_draw_01).argmin()\n",
    "    THETA = updater.particle_locations[draw_index]\n",
    "#     current_variance = updater.est_covariance_mtx()[0][0]\n",
    "#     M=idx_exp % 6 + 1\n",
    "    \n",
    "    posterior_marginal.append((updater.posterior_marginal()))\n",
    "\n",
    "print('Inference completed')"
   ]
  },
  {
   "cell_type": "markdown",
   "metadata": {},
   "source": [
    "## Posterior Marginal for each Iteration"
   ]
  },
  {
   "cell_type": "code",
   "execution_count": 212,
   "metadata": {},
   "outputs": [
    {
     "name": "stdout",
     "output_type": "stream",
     "text": [
      "2.5132741228718345\n"
     ]
    },
    {
     "data": {
      "image/png": "[encoded data removed]",
      "text/plain": [
       "<Figure size 432x288 with 1 Axes>"
      ]
     },
     "metadata": {
      "needs_background": "light"
     },
     "output_type": "display_data"
    }
   ],
   "source": [
    "# Plot for each iteration\n",
    "print(angle)\n",
    "fig_iter = plt.figure()\n",
    "ax_iter = plt.subplot(111)\n",
    "for x in posterior_marginal:\n",
    "#     print(x[0],x[1])\n",
    "    _ = ax_iter.plot(x[0],x[1])\n",
    "ax_iter.vlines(angle,ymin=0,ymax=2)\n",
    "_ = ax_iter.legend(['Iter ' + str(x) for x in range(len(posterior_marginal[0:10]))])\n",
    "_ = plt.grid()\n",
    "_ = plt.ylabel('Posterior')\n",
    "_ = plt.xlabel(r'$\\phi$')\n",
    "_ = plt.title('Posterior Marginal for some iterations')\n",
    "plt.savefig('iterative_posterior.png',dpi=300)"
   ]
  },
  {
   "cell_type": "code",
   "execution_count": 213,
   "metadata": {},
   "outputs": [
    {
     "data": {
      "image/png": "[encoded data removed]",
      "text/plain": [
       "<Figure size 432x288 with 1 Axes>"
      ]
     },
     "metadata": {
      "needs_background": "light"
     },
     "output_type": "display_data"
    }
   ],
   "source": [
    "ax_qinfer = updater.plot_posterior_marginal(smoothing=0)\n",
    "plt.vlines(angle,ymin=0,ymax=3)\n",
    "plt.grid()\n",
    "_ = plt.ylabel('Posterior')\n",
    "_ = plt.xlabel(r'$\\phi$')\n",
    "_ = plt.title('IQPE Posterior')\n",
    "plt.savefig('final_posterior.png',dpi=300)"
   ]
  },
  {
   "cell_type": "code",
   "execution_count": 207,
   "metadata": {},
   "outputs": [
    {
     "data": {
      "image/png": "[encoded data removed]",
      "text/plain": [
       "<Figure size 432x288 with 1 Axes>"
      ]
     },
     "metadata": {
      "needs_background": "light"
     },
     "output_type": "display_data"
    }
   ],
   "source": [
    "fig_true_err = plt.figure()\n",
    "ax_true_err = plt.subplot(111)\n",
    "ax_true_err.semilogy(performance['true_err'])\n",
    "ax_true_err.grid()\n",
    "_ = plt.xlabel('Iteration count')\n",
    "_ = plt.ylabel('True Error')\n",
    "_ = plt.title('True Error over each Iteration')\n",
    "plt.savefig('true_error.png',dpi=300)"
   ]
  },
  {
   "cell_type": "code",
   "execution_count": 206,
   "metadata": {},
   "outputs": [
    {
     "data": {
      "image/png": "[encoded data removed]",
      "text/plain": [
       "<Figure size 432x288 with 1 Axes>"
      ]
     },
     "metadata": {
      "needs_background": "light"
     },
     "output_type": "display_data"
    }
   ],
   "source": [
    "fig_est_mean = plt.figure()\n",
    "ax_est_mean = plt.subplot(111)\n",
    "ax_est_mean.plot(performance['est_mean'])\n",
    "ax_est_mean.grid()\n",
    "ax_est_mean.hlines(angle,xmin=0,xmax=N_EXP)\n",
    "_ = plt.xlabel('Iteration count')\n",
    "_ = plt.ylabel('Estimated $\\phi$ (mean)')\n",
    "_ = plt.title('Estimated Mean for each Iteration')\n",
    "plt.savefig('mean.png',dpi=300)"
   ]
  },
  {
   "cell_type": "markdown",
   "metadata": {},
   "source": [
    "# Presentation plots"
   ]
  },
  {
   "cell_type": "code",
   "execution_count": 198,
   "metadata": {},
   "outputs": [],
   "source": [
    "# Calculate the naive prediction of the IQPE phase, phi\n",
    "E_i = memory_list\n",
    "# Convert to integers\n",
    "theta_i = theta_list\n",
    "phi_i = []\n",
    "for i,E in enumerate(E_i):\n",
    "#     print(i,E)\n",
    "    e = [int(v) for v in E]\n",
    "\n",
    "    # Naive sum\n",
    "    sum = 0\n",
    "    for v in e:\n",
    "        sum += v\n",
    "    p_i = sum / len(E)\n",
    "\n",
    "    # Inverse naive phi approximation using expected value from experimental results\n",
    "    phi = theta_i[i][0] - (np.arccos(1 - (2 * p_i))) / M\n",
    "    phi_i.append(phi)"
   ]
  },
  {
   "cell_type": "code",
   "execution_count": 205,
   "metadata": {},
   "outputs": [
    {
     "data": {
      "image/png": "[encoded data removed]",
      "text/plain": [
       "<Figure size 432x288 with 1 Axes>"
      ]
     },
     "metadata": {
      "needs_background": "light"
     },
     "output_type": "display_data"
    }
   ],
   "source": [
    "# Plot the naive phi estimate\n",
    "plt.plot(phi_i)\n",
    "plt.grid()\n",
    "plt.hlines(angle,xmin=0,xmax=25)\n",
    "_ = plt.xlabel('Iteration Count')\n",
    "_ = plt.ylabel(r'$\\phi$')\n",
    "_ = plt.title('Naive $\\phi$ estimation using expectation values of experimental runs')\n",
    "plt.savefig('naive.png',dpi=300)"
   ]
  },
  {
   "cell_type": "markdown",
   "metadata": {},
   "source": [
    "## Draw the Circuit"
   ]
  },
  {
   "cell_type": "code",
   "execution_count": 221,
   "metadata": {},
   "outputs": [],
   "source": [
    "# Disable TeX text rendering\n",
    "mpl.rc('text', usetex=False)"
   ]
  },
  {
   "cell_type": "code",
   "execution_count": 224,
   "metadata": {},
   "outputs": [],
   "source": [
    "# Render the IQPE circuit for M=1 and the last Theta used\n",
    "circuit = iqpe_builder.construct_circuit(k=1,omega=THETA,measurement=True)\n",
    "circ_fig = circuit.draw(output='mpl')\n",
    "circ_fig.savefig('iqpe_1.png',dpi=300)"
   ]
  },
  {
   "cell_type": "code",
   "execution_count": 225,
   "metadata": {},
   "outputs": [],
   "source": [
    "# Render the IQPE circuit for M=2 and the last Theta used\n",
    "circuit = iqpe_builder.construct_circuit(k=2,omega=THETA,measurement=True)\n",
    "circ_fig = circuit.draw(output='mpl')\n",
    "circ_fig.savefig('iqpe_2.png',dpi=300)"
   ]
  }
 ],
 "metadata": {
  "kernelspec": {
   "display_name": "Python 3",
   "language": "python",
   "name": "python3"
  },
  "language_info": {
   "codemirror_mode": {
    "name": "ipython",
    "version": 3
   },
   "file_extension": ".py",
   "mimetype": "text/x-python",
   "name": "python",
   "nbconvert_exporter": "python",
   "pygments_lexer": "ipython3",
   "version": "3.7.4"
  }
 },
 "nbformat": 4,
 "nbformat_minor": 2
}
