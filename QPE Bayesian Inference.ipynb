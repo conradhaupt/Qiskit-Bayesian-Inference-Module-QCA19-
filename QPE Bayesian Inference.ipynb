{
 "cells": [
  {
   "cell_type": "code",
   "execution_count": 3,
   "metadata": {},
   "outputs": [],
   "source": [
    "import qiskit as qk\n",
    "import qinfer as qf\n",
    "from qiskit.aqua.algorithms.single_sample import IQPE,QPE\n",
    "from qiskit.aqua.components import iqfts\n",
    "from qiskit.aqua.operators import WeightedPauliOperator\n",
    "from qiskit.aqua.algorithms import ExactEigensolver\n",
    "from qiskit.aqua.components.initial_states import Custom\n",
    "import numpy as np\n",
    "from qiskit import Aer,execute\n",
    "from qiskit.aqua import QuantumInstance\n",
    "# We need distributions to model priors.\n",
    "from qinfer import distributions\n",
    "# The noisy coin model has already been implmented, so let's import it here.\n",
    "from qinfer.test_models import NoisyCoinModel\n",
    "# Next, we need to import the sequential Monte Carlo updater class.\n",
    "from qinfer.smc import SMCUpdater\n",
    "# We'll be demonstrating approximate likelihood evaluation (ALE) as well.\n",
    "from qinfer import ale\n",
    "from qinfer import FiniteOutcomeModel\n",
    "import matplotlib.pyplot as plt\n",
    "from scipy.stats import circmean\n",
    "import time\n",
    "from qiskit.providers.aer import noise\n",
    "from qiskit import IBMQ\n",
    "IBMQ.load_account()\n",
    "ibmqx_provider = IBMQ.get_provider(hub='ibm-q-wits', group='internal', project='default')"
   ]
  },
  {
   "cell_type": "code",
   "execution_count": 4,
   "metadata": {
    "hide_input": false
   },
   "outputs": [],
   "source": [
    "EPS = 1e-15\n",
    "def chop(value):\n",
    "    if np.abs(value) <= EPS:\n",
    "        return 0\n",
    "    else:\n",
    "        return value"
   ]
  },
  {
   "cell_type": "code",
   "execution_count": 5,
   "metadata": {},
   "outputs": [],
   "source": [
    "def radiandiff(a,b):\n",
    "    FULL_ROTATION = 2 * np.pi\n",
    "    return np.min(np.abs([a - b, b - a, a - b + FULL_ROTATION, b - a + FULL_ROTATION]))"
   ]
  },
  {
   "cell_type": "code",
   "execution_count": 6,
   "metadata": {},
   "outputs": [],
   "source": [
    "def complexfromangle(angle):\n",
    "    real = chop(np.real(np.exp(1.j * angle)))\n",
    "    imag = chop(np.imag(np.exp(1.j * angle)))\n",
    "    return real,imag"
   ]
  },
  {
   "cell_type": "markdown",
   "metadata": {},
   "source": [
    "# IQPE on ZZ Unitary with specified phase"
   ]
  },
  {
   "cell_type": "code",
   "execution_count": 7,
   "metadata": {},
   "outputs": [],
   "source": [
    "# Set-up unitary with specified phase\n",
    "angle = 4 * np.pi / 5\n",
    "real,imag = complexfromangle(angle)\n",
    "\n",
    "PAULI_DICT_ZZ = {\n",
    "    'paulis': [\n",
    "        {\"coeff\": {\"imag\": imag, \"real\": real}, \"label\": \"ZZ\"}\n",
    "    ]\n",
    "}\n",
    "QUBIT_OP_ZZ = WeightedPauliOperator.from_dict(PAULI_DICT_ZZ)\n",
    "eigen_results = ExactEigensolver(QUBIT_OP_ZZ,4).run()\n",
    "eigen_value = eigen_results['eigvals'][0]\n",
    "eigen_vector = eigen_results['eigvecs'][0]"
   ]
  },
  {
   "cell_type": "code",
   "execution_count": 8,
   "metadata": {},
   "outputs": [
    {
     "name": "stdout",
     "output_type": "stream",
     "text": [
      "Eigenvalues [-0.80901699+0.58778525j -0.80901699+0.58778525j  0.80901699-0.58778525j\n",
      "  0.80901699-0.58778525j]\n",
      "Phase is 2.5133 radians\n"
     ]
    }
   ],
   "source": [
    "print('Eigenvalues',eigen_results['eigvals'])\n",
    "print('Phase is %.4f radians' %(angle))"
   ]
  },
  {
   "cell_type": "code",
   "execution_count": 9,
   "metadata": {},
   "outputs": [],
   "source": [
    "# Setup initial state as eigenvector\n",
    "state_in = Custom(QUBIT_OP_ZZ.num_qubits, state_vector=eigen_vector)"
   ]
  },
  {
   "cell_type": "code",
   "execution_count": 10,
   "metadata": {},
   "outputs": [],
   "source": [
    "# Use QASM Simulator for testing\n",
    "simulator = Aer.get_backend('qasm_simulator')"
   ]
  },
  {
   "cell_type": "code",
   "execution_count": 11,
   "metadata": {},
   "outputs": [],
   "source": [
    "# Construct IQPE circuit and simulate\n",
    "iqpe_builder = IQPE(\n",
    "    QUBIT_OP_ZZ,\n",
    "    state_in,\n",
    "    num_iterations=1,\n",
    "    num_time_slices=1,\n",
    "    expansion_mode='suzuki',\n",
    "    expansion_order=1,\n",
    "    shallow_circuit_concat=True)\n",
    "\n",
    "# This is required to setup iqpe_builder so we can call construct_circuit() later on\n",
    "iqpe_results = iqpe_circ = iqpe_builder.run(simulator,shots=1)"
   ]
  },
  {
   "cell_type": "markdown",
   "metadata": {},
   "source": [
    "# QInfer Models and Definitions"
   ]
  },
  {
   "cell_type": "code",
   "execution_count": 12,
   "metadata": {},
   "outputs": [],
   "source": [
    "class IQPEModel(FiniteOutcomeModel):\n",
    "    \n",
    "    def __init__(self):\n",
    "        super(IQPEModel, self).__init__()\n",
    "\n",
    "    ## PROPERTIES ##\n",
    "\n",
    "    @property\n",
    "    def n_modelparams(self):\n",
    "        # phi\n",
    "        return 1 # one for just phi, two for phi and T2\n",
    "\n",
    "    @property\n",
    "    def expparams_dtype(self):\n",
    "        return [('theta','float64'), ('m','int64')]\n",
    "\n",
    "    @property\n",
    "    def is_n_outcomes_constant(self):\n",
    "        return True\n",
    "\n",
    "    ## METHODS ##\n",
    "\n",
    "    @staticmethod\n",
    "    def are_models_valid(modelparams):\n",
    "        # NOTE: If T2 is included as a model parameter, restrict it to positive\n",
    "        return np.logical_and(modelparams[:] >= -2*np.pi, modelparams[:]<=2*np.pi, modelparams[:] > 0).all(axis=1)\n",
    "\n",
    "    def n_outcomes(self, expparams):\n",
    "        return 2\n",
    "\n",
    "    def likelihood(self, outcomes, modelparams, expparams):\n",
    "        # We first call the superclass method, which basically\n",
    "        # just makes sure that call count diagnostics are properly\n",
    "        # logged.\n",
    "        super(IQPEModel, self).likelihood(outcomes, modelparams, expparams)\n",
    "        # Probability of getting 0 for IQPE is\n",
    "        # P(0) = (1 + cos(M(theta - phi)))/2\n",
    "#         pr0 = np.exp(-expparams['m'] / expparams['T2']) * (1 + np.cos(expparams['m'] * (expparams['theta'] - modelparams[:]))) / 2 + (1 - np.exp(-expparams['m'] / expparams['T2']))/2\n",
    "        pr0 = (1 + np.cos(expparams['m'] * (expparams['theta'] - modelparams[:]))) / 2\n",
    "\n",
    "        # Concatenate over outcomes.\n",
    "        return FiniteOutcomeModel.pr0_to_likelihood_array(outcomes, pr0)"
   ]
  },
  {
   "cell_type": "code",
   "execution_count": 13,
   "metadata": {},
   "outputs": [],
   "source": [
    "class PhaseSMCUpdater(SMCUpdater):\n",
    "    @staticmethod\n",
    "    def particle_mean(weights,locations):\n",
    "        locs = [complexfromangle(a) for a in locations.flatten()]\n",
    "        loc_x = []\n",
    "        loc_y = []\n",
    "        for x,y in locs:\n",
    "            loc_x.append(x)\n",
    "            loc_y.append(y)\n",
    "        avg_x = np.average(loc_x,weights=weights)\n",
    "        avg_y = np.average(loc_y,weights=weights)\n",
    "        avg_angle = np.angle(avg_x + 1.j*avg_y)\n",
    "        avg_mag = np.sqrt(avg_x**2 + avg_y**2)\n",
    "        return avg_angle"
   ]
  },
  {
   "cell_type": "code",
   "execution_count": 14,
   "metadata": {},
   "outputs": [],
   "source": [
    "# Bayesien Inference Parameters\n",
    "N_PARTICLES = 5000\n",
    "N_EXP = 25\n",
    "USE_QISKIT_QASM_SIMULATOR = True\n",
    "SIM_N_SHOTS=2048\n",
    "\n",
    "performance_dtype = [\n",
    "    ('outcome', 'i1'),\n",
    "    ('est_mean', 'f8'), ('est_cov_mat', 'f8'),\n",
    "    ('true_err', 'f8'), ('resample_count', 'i8'),\n",
    "    ('elapsed_time', 'f8'),\n",
    "    ('like_count', 'i8'), ('sim_count', 'i8'),\n",
    "    ('bme', 'f8'),\n",
    "    ('var', 'f8'),\n",
    "    ('bme_err', 'f8')\n",
    "]\n",
    "performance = np.empty((N_EXP), dtype=performance_dtype)"
   ]
  },
  {
   "cell_type": "code",
   "execution_count": 15,
   "metadata": {},
   "outputs": [],
   "source": [
    "# Set-up initial prior and QInfer model\n",
    "# prior = distributions.UniformDistribution([0, 2 * np.pi])\n",
    "prior = distributions.NormalDistribution(angle,np.pi/4)\n",
    "model = IQPEModel()"
   ]
  },
  {
   "cell_type": "code",
   "execution_count": 16,
   "metadata": {},
   "outputs": [],
   "source": [
    "backend_device = ibmqx_provider.get_backend('ibmq_rochester')\n",
    "ideal_model = noise.device.basic_device_noise_model(\n",
    "    backend_device.properties(),gate_error=False,readout_error=False,\n",
    "    thermal_relaxation=False,standard_gates=True)\n",
    "data_backend = Aer.get_backend('qasm_simulator')"
   ]
  },
  {
   "cell_type": "code",
   "execution_count": 41,
   "metadata": {
    "scrolled": false
   },
   "outputs": [
    {
     "name": "stdout",
     "output_type": "stream",
     "text": [
      "0 / 25\n",
      "1 / 25\n",
      "2 / 25\n",
      "3 / 25\n",
      "4 / 25\n",
      "5 / 25\n",
      "6 / 25\n",
      "7 / 25\n",
      "8 / 25\n",
      "9 / 25\n",
      "10 / 25\n",
      "11 / 25\n",
      "12 / 25\n",
      "13 / 25\n",
      "14 / 25\n",
      "15 / 25\n",
      "16 / 25\n",
      "17 / 25\n",
      "18 / 25\n",
      "19 / 25\n",
      "20 / 25\n",
      "21 / 25\n",
      "22 / 25\n",
      "23 / 25\n",
      "24 / 25\n",
      "Inference completed\n"
     ]
    }
   ],
   "source": [
    "# Create a Bayesian Inference Updater\n",
    "updater = PhaseSMCUpdater(model, N_PARTICLES, prior,zero_weight_policy='skip')\n",
    "# Set-up initial experimental parameters\n",
    "THETA = prior.sample()[0][0]\n",
    "M = 1\n",
    "T2 = 100\n",
    "\n",
    "posterior_marginal = []\n",
    "# For each experiment we defined earlier\n",
    "for idx_exp in range(N_EXP):\n",
    "    print(idx_exp,'/',N_EXP)\n",
    "    # Define experimental parameters\n",
    "    expparams = np.array([(M,THETA)], dtype=model.expparams_dtype)\n",
    "    \n",
    "    # Simulate IQPE circuit and get results for inference\n",
    "    circuit = iqpe_builder.construct_circuit(k=M,omega=THETA,measurement=True)\n",
    "    results = execute(circuit,simulator,shots=SIM_N_SHOTS,memory=True,noise_model=ideal_model)\n",
    "    counts = results.result().get_counts()\n",
    "    memory = results.result().get_memory()\n",
    "\n",
    "    # Start by simulating and recording the data. #\n",
    "\n",
    "    # Retrieve the outcome of the simulation either from the circuit simulation or a model simulation\n",
    "    if USE_QISKIT_QASM_SIMULATOR:\n",
    "        outcomes = np.array([[int(m) for m in memory]])\n",
    "    else:\n",
    "        outcomes = model.simulate_experiment(np.array([[angle]]),expparams,repeat=SIM_N_SHOTS)\n",
    "        outcomes = outcomes.reshape((1,outcomes.shape[0]))\n",
    "        \n",
    "    model._sim_count = 0\n",
    "    model._call_count = 0\n",
    "\n",
    "    # Time the update process\n",
    "    #     tic = toc = None\n",
    "    #     tic = time.time()\n",
    "\n",
    "    # Update the posterior particles using the result of the circuit simulation\n",
    "    updater.batch_update(outcomes, expparams)\n",
    "    \n",
    "    #     performance[idx_exp]['elapsed_time'] = time.time() - tic\n",
    "\n",
    "    # Record the performance of this updater.\n",
    "    est_mean = updater.est_mean()\n",
    "    performance[idx_exp]['est_mean'] = est_mean\n",
    "    performance[idx_exp]['true_err'] = radiandiff(est_mean,angle) ** 2\n",
    "    performance[idx_exp]['est_cov_mat'] = updater.est_covariance_mtx()\n",
    "    performance[idx_exp]['resample_count'] = updater.resample_count\n",
    "    performance[idx_exp]['like_count'] = model.call_count\n",
    "    performance[idx_exp]['sim_count'] = model.sim_count\n",
    "    \n",
    "    \n",
    "    # Re-evaluate experiment parameters\n",
    "    uniform_draw_01 = np.random.uniform(low=0.05,high=0.95)\n",
    "#     uniform_draw_01 = np.random.uniform()\n",
    "    cumsum_particles = np.cumsum(updater.particle_weights)\n",
    "    draw_index = (cumsum_particles<= uniform_draw_01).argmin()\n",
    "    THETA = updater.particle_locations[draw_index]\n",
    "#     current_variance = updater.est_covariance_mtx()[0][0]\n",
    "    \n",
    "    posterior_marginal.append((updater.posterior_marginal()))\n",
    "\n",
    "print('Inference completed')"
   ]
  },
  {
   "cell_type": "code",
   "execution_count": 42,
   "metadata": {},
   "outputs": [
    {
     "name": "stdout",
     "output_type": "stream",
     "text": [
      "2.5132741228718345\n"
     ]
    },
    {
     "data": {
      "image/png": "[encoded data removed]",
      "text/plain": [
       "<Figure size 432x288 with 1 Axes>"
      ]
     },
     "metadata": {
      "needs_background": "light"
     },
     "output_type": "display_data"
    }
   ],
   "source": [
    "# Plot for each iteration\n",
    "print(angle)\n",
    "fig_iter = plt.figure()\n",
    "ax_iter = plt.subplot(111)\n",
    "for x in posterior_marginal:\n",
    "#     print(x[0],x[1])\n",
    "    _ = ax_iter.plot(x[0],x[1])\n",
    "ax_iter.vlines(angle,ymin=0,ymax=2)\n",
    "_ = ax_iter.legend([str(x) for x in range(len(posterior_marginal))])"
   ]
  },
  {
   "cell_type": "code",
   "execution_count": 43,
   "metadata": {},
   "outputs": [
    {
     "data": {
      "image/png": "[encoded data removed]",
      "text/plain": [
       "<Figure size 432x288 with 1 Axes>"
      ]
     },
     "metadata": {
      "needs_background": "light"
     },
     "output_type": "display_data"
    }
   ],
   "source": [
    "ax_qinfer = updater.plot_posterior_marginal(smoothing=0)"
   ]
  },
  {
   "cell_type": "code",
   "execution_count": 44,
   "metadata": {},
   "outputs": [
    {
     "data": {
      "text/plain": [
       "Text(0, 0.5, 'True Error')"
      ]
     },
     "execution_count": 44,
     "metadata": {},
     "output_type": "execute_result"
    },
    {
     "data": {
      "image/png": "[encoded data removed]",
      "text/plain": [
       "<Figure size 432x288 with 1 Axes>"
      ]
     },
     "metadata": {
      "needs_background": "light"
     },
     "output_type": "display_data"
    }
   ],
   "source": [
    "fig_true_err = plt.figure()\n",
    "ax_true_err = plt.subplot(111)\n",
    "ax_true_err.semilogy(performance['true_err'])\n",
    "ax_true_err.grid()\n",
    "plt.xlabel('Iteration count')\n",
    "plt.ylabel('True Error')"
   ]
  }
 ],
 "metadata": {
  "kernelspec": {
   "display_name": "Python 3",
   "language": "python",
   "name": "python3"
  },
  "language_info": {
   "codemirror_mode": {
    "name": "ipython",
    "version": 3
   },
   "file_extension": ".py",
   "mimetype": "text/x-python",
   "name": "python",
   "nbconvert_exporter": "python",
   "pygments_lexer": "ipython3",
   "version": "3.7.4"
  }
 },
 "nbformat": 4,
 "nbformat_minor": 2
}
